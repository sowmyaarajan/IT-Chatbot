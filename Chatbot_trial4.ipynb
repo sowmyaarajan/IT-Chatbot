{
 "cells": [
  {
   "cell_type": "code",
   "execution_count": 424,
   "metadata": {},
   "outputs": [],
   "source": [
    "# Importing modules\n",
    "#library for regular expression\n",
    "import re\n",
    "#library for nltk lib\n",
    "from nltk.corpus import wordnet\n",
    "#library for opening a URL automatically in python\n",
    "import webbrowser\n",
    "#time library for delay\n",
    "import time"
   ]
  },
  {
   "cell_type": "code",
   "execution_count": 425,
   "metadata": {},
   "outputs": [],
   "source": [
    "#Importing for different colors or style for print statements\n",
    "#pip install simple-colors\n",
    "from simple_colors import *\n",
    "#print(black('Hello', ['bold'])) for example to print in different colors with  bold\n",
    "#print(black('Hello',['bold'])+\" \"+ red('my name',['bold'])) to insert 2 different colors"
   ]
  },
  {
   "cell_type": "code",
   "execution_count": 426,
   "metadata": {},
   "outputs": [],
   "source": [
    "#Inserting emoji\n",
    "#pip install emoji\n",
    "import emoji\n",
    "#print(emoji.emojize(':thumbs_up: Python is :thumbs_up: :alien:')) "
   ]
  },
  {
   "cell_type": "code",
   "execution_count": 427,
   "metadata": {},
   "outputs": [
    {
     "name": "stdout",
     "output_type": "stream",
     "text": [
      "{'hello': {'hullo', 'howdy', 'hello', 'how do you do', 'hi'}, 'Thanks': {'thank', 'give thanks', 'thanks'}}\n"
     ]
    }
   ],
   "source": [
    "# Building a list of Keywords\n",
    "list_words=['hello','Thanks']\n",
    "list_syn={}\n",
    "for word in list_words:\n",
    "    synonyms=[]\n",
    "    for syn in wordnet.synsets(word):\n",
    "        for lem in syn.lemmas():\n",
    "            \n",
    "            # Remove any special characters from synonym strings\n",
    "            lem_name = re.sub('[^a-zA-Z0-9 \\n\\.]', ' ', lem.name())\n",
    "            synonyms.append(lem_name)\n",
    "   \n",
    "    list_syn[word]=set(synonyms)\n",
    "    \n",
    "print (list_syn)"
   ]
  },
  {
   "cell_type": "code",
   "execution_count": 428,
   "metadata": {},
   "outputs": [
    {
     "name": "stdout",
     "output_type": "stream",
     "text": [
      "{'chrome lag': {'chrome hung', 'chrome froze', 'chrome not loadig', 'chrome not working', ' chrome freeze', 'chrome crashing', 'chrome '}}\n"
     ]
    }
   ],
   "source": [
    "list_words_new=['chrome lag']\n",
    "list_syn_new={}\n",
    "for word_new in list_words_new:\n",
    "    synonyms_new=[' chrome freeze','chrome froze','chrome hung','chrome not working','chrome not loadig','chrome crashing','chrome ']\n",
    "    for syn_new in wordnet.synsets(word_new):\n",
    "        for lem_new in syn_new.lemmas():\n",
    "            lem_name_new = re.sub('[^a-zA-Z0-9 \\n\\.]', ' ', lem_new.name())        \n",
    "            synonyms_new.append(lem_name_new)\n",
    "    list_syn_new[word_new]=set(synonyms_new)\n",
    "    \n",
    "print (list_syn_new)"
   ]
  },
  {
   "cell_type": "code",
   "execution_count": 429,
   "metadata": {},
   "outputs": [
    {
     "name": "stdout",
     "output_type": "stream",
     "text": [
      "{'greet': re.compile('.*\\\\bhullo\\\\b.*|.*\\\\bhowdy\\\\b.*|.*\\\\bhello\\\\b.*|.*\\\\bhow do you do\\\\b.*|.*\\\\bhi\\\\b.*'), 'chrome lag': re.compile('.*\\\\bchrome hung\\\\b.*|.*\\\\bchrome froze\\\\b.*|.*\\\\bchrome not loadig\\\\b.*|.*\\\\bchrome not working\\\\b.*|.*\\\\b chrome freeze\\\\b.*|.*\\\\bchrome crashing\\\\b.*|.*\\\\bchrome \\\\b.*'), 'Thanks': re.compile('.*\\\\bthank\\\\b.*|.*\\\\bgive thanks\\\\b.*|.*\\\\bthanks\\\\b.*')}\n"
     ]
    }
   ],
   "source": [
    "# Building dictionary of Intents & Keywords\n",
    "keywords={}\n",
    "keywords_dict={}\n",
    "\n",
    "\n",
    "# Defining a new key in the keywords dictionary\n",
    "keywords['greet']=[]\n",
    "\n",
    "# Populating the values in the keywords dictionary with synonyms of keywords formatted with RegEx metacharacters \n",
    "for synonym in list(list_syn['hello']):\n",
    "    keywords['greet'].append('.*\\\\b'+synonym+'\\\\b.*')\n",
    "\n",
    "# Defining a new key in the keywords dictionary\n",
    "keywords['chrome lag']=[]\n",
    "\n",
    "# Populating the values in the keywords dictionary with synonyms of keywords formatted with RegEx metacharacters \n",
    "for synonym in list(list_syn_new['chrome lag']):\n",
    "    keywords['chrome lag'].append('.*\\\\b'+synonym+'\\\\b.*')\n",
    "\n",
    "    \n",
    "# Defining a new key in the keywords dictionary\n",
    "keywords['Thanks']=[]\n",
    "\n",
    "# Populating the values in the keywords dictionary with synonyms of keywords formatted with RegEx metacharacters \n",
    "for synonym in list(list_syn['Thanks']):\n",
    "    keywords['Thanks'].append('.*\\\\b'+synonym+'\\\\b.*')\n",
    " \n",
    "for intent, keys in keywords.items():\n",
    "    \n",
    "    # Joining the values in the keywords dictionary with the OR (|) operator updating them in keywords_dict dictionary\n",
    "    keywords_dict[intent]=re.compile('|'.join(keys))\n",
    "print (keywords_dict)"
   ]
  },
  {
   "cell_type": "code",
   "execution_count": 430,
   "metadata": {},
   "outputs": [],
   "source": [
    "# Building a dictionary of responses\n",
    "#Responses with a color and bold style\n",
    "responses={\n",
    "    'greet':emoji.emojize(red(':alien: Hello! How can I help you?\\n',['bold'])),\n",
    "    'chrome': emoji.emojize(red(':alien: Did you restrat browser?\\n',['bold'])),\n",
    "    'chrome lag':emoji.emojize(red(':alien: Hey I can definitely help you with that!\\nPlease select one of the options:\\n',['bold'])+black('reset browser \\nreset chrome settings \\n',['bold'])),\n",
    "    'Reset Browser':emoji.emojize(':alien: \\n'),\n",
    "    'Reset Chrome':emoji.emojize(':alien: \\n'),\n",
    "    'Thanks':emoji.emojize(red(':alien: It was nice talking to you \\n',['bold'])),\n",
    "    'fallback':emoji.emojize(red(':alien: I do not quite understand. Could you repeat that? \\n',['bold'])),\n",
    "}"
   ]
  },
  {
   "cell_type": "code",
   "execution_count": 431,
   "metadata": {},
   "outputs": [
    {
     "name": "stdout",
     "output_type": "stream",
     "text": [
      "\u001b[1;31m👽 Welcome to QualiBot! How may I help you?\u001b[0m\n",
      "hello\n",
      "\u001b[1;31m👽 Hello! How can I help you?\n",
      "\u001b[0m\n",
      "chrome is freezing\n",
      "\u001b[1;31m👽 Hey I can definitely help you with that!\n",
      "Please select one of the options:\n",
      "\u001b[0m\u001b[1;30mreset browser \n",
      "reset chrome settings \n",
      "\u001b[0m\n",
      "reset chrome settings\n",
      "\u001b[1;31m👽 Please wait until you are directed\u001b[0m\n",
      "\n",
      "\n",
      "\u001b[1;31m👽 Please select one of the options:\u001b[0m\u001b[1;30m\n",
      "chrome issue fixed \n",
      "chrome issue not fixed\u001b[0m\n",
      "chrome issue not fixed\n",
      "\u001b[1;31m👽 I kindly request you to raise a ticket. An IT engineer will contact you immediately. Thank you.\u001b[0m\n",
      "chrome issue fixed\n",
      "\u001b[1;31m👽 Please let me know if you have any other issues\u001b[0m\n",
      "none, thanks\n",
      "\u001b[1;31m👽 It was nice talking to you \n",
      "\u001b[0m\n"
     ]
    },
    {
     "ename": "KeyboardInterrupt",
     "evalue": "Interrupted by user",
     "output_type": "error",
     "traceback": [
      "\u001b[1;31m---------------------------------------------------------------------------\u001b[0m",
      "\u001b[1;31mKeyboardInterrupt\u001b[0m                         Traceback (most recent call last)",
      "\u001b[1;32m<ipython-input-431-f233a8215e9b>\u001b[0m in \u001b[0;36m<module>\u001b[1;34m\u001b[0m\n\u001b[0;32m      5\u001b[0m \u001b[1;33m\u001b[0m\u001b[0m\n\u001b[0;32m      6\u001b[0m     \u001b[1;31m# Takes the user input and converts all characters to lowercase\u001b[0m\u001b[1;33m\u001b[0m\u001b[1;33m\u001b[0m\u001b[1;33m\u001b[0m\u001b[0m\n\u001b[1;32m----> 7\u001b[1;33m     \u001b[0muser_input\u001b[0m \u001b[1;33m=\u001b[0m \u001b[0minput\u001b[0m\u001b[1;33m(\u001b[0m\u001b[1;33m)\u001b[0m\u001b[1;33m.\u001b[0m\u001b[0mlower\u001b[0m\u001b[1;33m(\u001b[0m\u001b[1;33m)\u001b[0m\u001b[1;33m\u001b[0m\u001b[1;33m\u001b[0m\u001b[0m\n\u001b[0m\u001b[0;32m      8\u001b[0m \u001b[1;33m\u001b[0m\u001b[0m\n\u001b[0;32m      9\u001b[0m     \u001b[1;31m#Giving a task for a particular user input\u001b[0m\u001b[1;33m\u001b[0m\u001b[1;33m\u001b[0m\u001b[1;33m\u001b[0m\u001b[0m\n",
      "\u001b[1;32m~\\Anaconda3\\lib\\site-packages\\ipykernel\\kernelbase.py\u001b[0m in \u001b[0;36mraw_input\u001b[1;34m(self, prompt)\u001b[0m\n\u001b[0;32m    861\u001b[0m             \u001b[0mself\u001b[0m\u001b[1;33m.\u001b[0m\u001b[0m_parent_ident\u001b[0m\u001b[1;33m,\u001b[0m\u001b[1;33m\u001b[0m\u001b[1;33m\u001b[0m\u001b[0m\n\u001b[0;32m    862\u001b[0m             \u001b[0mself\u001b[0m\u001b[1;33m.\u001b[0m\u001b[0m_parent_header\u001b[0m\u001b[1;33m,\u001b[0m\u001b[1;33m\u001b[0m\u001b[1;33m\u001b[0m\u001b[0m\n\u001b[1;32m--> 863\u001b[1;33m             \u001b[0mpassword\u001b[0m\u001b[1;33m=\u001b[0m\u001b[1;32mFalse\u001b[0m\u001b[1;33m,\u001b[0m\u001b[1;33m\u001b[0m\u001b[1;33m\u001b[0m\u001b[0m\n\u001b[0m\u001b[0;32m    864\u001b[0m         )\n\u001b[0;32m    865\u001b[0m \u001b[1;33m\u001b[0m\u001b[0m\n",
      "\u001b[1;32m~\\Anaconda3\\lib\\site-packages\\ipykernel\\kernelbase.py\u001b[0m in \u001b[0;36m_input_request\u001b[1;34m(self, prompt, ident, parent, password)\u001b[0m\n\u001b[0;32m    902\u001b[0m             \u001b[1;32mexcept\u001b[0m \u001b[0mKeyboardInterrupt\u001b[0m\u001b[1;33m:\u001b[0m\u001b[1;33m\u001b[0m\u001b[1;33m\u001b[0m\u001b[0m\n\u001b[0;32m    903\u001b[0m                 \u001b[1;31m# re-raise KeyboardInterrupt, to truncate traceback\u001b[0m\u001b[1;33m\u001b[0m\u001b[1;33m\u001b[0m\u001b[1;33m\u001b[0m\u001b[0m\n\u001b[1;32m--> 904\u001b[1;33m                 \u001b[1;32mraise\u001b[0m \u001b[0mKeyboardInterrupt\u001b[0m\u001b[1;33m(\u001b[0m\u001b[1;34m\"Interrupted by user\"\u001b[0m\u001b[1;33m)\u001b[0m \u001b[1;32mfrom\u001b[0m \u001b[1;32mNone\u001b[0m\u001b[1;33m\u001b[0m\u001b[1;33m\u001b[0m\u001b[0m\n\u001b[0m\u001b[0;32m    905\u001b[0m             \u001b[1;32mexcept\u001b[0m \u001b[0mException\u001b[0m \u001b[1;32mas\u001b[0m \u001b[0me\u001b[0m\u001b[1;33m:\u001b[0m\u001b[1;33m\u001b[0m\u001b[1;33m\u001b[0m\u001b[0m\n\u001b[0;32m    906\u001b[0m                 \u001b[0mself\u001b[0m\u001b[1;33m.\u001b[0m\u001b[0mlog\u001b[0m\u001b[1;33m.\u001b[0m\u001b[0mwarning\u001b[0m\u001b[1;33m(\u001b[0m\u001b[1;34m\"Invalid Message:\"\u001b[0m\u001b[1;33m,\u001b[0m \u001b[0mexc_info\u001b[0m\u001b[1;33m=\u001b[0m\u001b[1;32mTrue\u001b[0m\u001b[1;33m)\u001b[0m\u001b[1;33m\u001b[0m\u001b[1;33m\u001b[0m\u001b[0m\n",
      "\u001b[1;31mKeyboardInterrupt\u001b[0m: Interrupted by user"
     ]
    }
   ],
   "source": [
    "print (emoji.emojize(red(\":alien: Welcome to QualiBot! How may I help you?\",['bold'])))\n",
    "\n",
    "# While loop to run the chatbot indefinetely\n",
    "while (True):  \n",
    "    \n",
    "    # Takes the user input and converts all characters to lowercase\n",
    "    user_input = input().lower()\n",
    "    \n",
    "    #Giving a task for a particular user input\n",
    "    if (user_input=='reset browser'or user_input=='reset chrome settings'):\n",
    "        print(emoji.emojize(red(':alien: Please wait until you are directed',['bold'])))\n",
    "        time.sleep(3)\n",
    "        webbrowser.open('https://www.google.com/chrome/')\n",
    "        print('\\n')\n",
    "        time.sleep(3)\n",
    "        print(emoji.emojize(red(':alien: Please select one of the options:',['bold'])+black('\\nchrome issue fixed \\nchrome issue not fixed',['bold'])))\n",
    "        continue\n",
    "    \n",
    "    if(user_input=='chrome issue fixed'):\n",
    "        print(emoji.emojize(red(':alien: Please let me know if you have any other issues',['bold'])))\n",
    "        continue\n",
    "    if(user_input=='chrome issue not fixed'):\n",
    "        print(emoji.emojize(red(':alien: I kindly request you to raise a ticket. An IT engineer will contact you immediately. Thank you.',['bold'])))\n",
    "        continue\n",
    "    \n",
    "\n",
    "    \n",
    "    # Defining the Chatbot's exit condition\n",
    "    if (user_input == 'bye' or user_input=='sure' or user_input == 'thanks'): \n",
    "        print (emoji.emojize(red(\":alien: Thank you for visiting.,['bold']\")))\n",
    "        break    \n",
    "    \n",
    "    matched_intent = None \n",
    "    \n",
    "    for intent,pattern in keywords_dict.items():\n",
    "        \n",
    "        # Using the regular expression search function to look for keywords in user input\n",
    "        if re.search(pattern, user_input): \n",
    "            \n",
    "            # if a keyword matches, select the corresponding intent from the keywords_dict dictionary\n",
    "            matched_intent=intent  \n",
    "    \n",
    "    # The fallback intent is selected by default\n",
    "    key='fallback' \n",
    "    if matched_intent in responses:\n",
    "        \n",
    "        # If a keyword matches, the fallback intent is replaced by the matched intent as the key for the responses dictionary\n",
    "        key = matched_intent \n",
    "    \n",
    "    # The chatbot prints the response that matches the selected intent\n",
    "    print (responses[key])"
   ]
  },
  {
   "cell_type": "code",
   "execution_count": null,
   "metadata": {},
   "outputs": [],
   "source": []
  }
 ],
 "metadata": {
  "kernelspec": {
   "display_name": "Python 3",
   "language": "python",
   "name": "python3"
  },
  "language_info": {
   "codemirror_mode": {
    "name": "ipython",
    "version": 3
   },
   "file_extension": ".py",
   "mimetype": "text/x-python",
   "name": "python",
   "nbconvert_exporter": "python",
   "pygments_lexer": "ipython3",
   "version": "3.7.3"
  }
 },
 "nbformat": 4,
 "nbformat_minor": 4
}
